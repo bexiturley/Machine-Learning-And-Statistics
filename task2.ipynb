{
 "cells": [
  {
   "cell_type": "markdown",
   "metadata": {},
   "source": [
    "### Task 2: \n",
    "***\n",
    "November 2nd, 2020 : The Chi-squared test for independence is a statistical hypothesis test like a t-test. It is used to analyse whether two categorical variables are independent. The Wikipedia article gives the table below as an example [4], stating the Chi-squared value based on it is approximately 24.6. Use scipy.stats to verify this value and calculate the associated p value. You should include a short note with references justifying your analysis in a markdown cell.\n",
    "     \n",
    "      \n",
    "|                | A       | B       | C       | D       | Total|\n",
    "| :------------- | :-----: | ------: | ------: | ------: | ------: |\n",
    "|  White collar  | 90      | 60      | 104     | 95      |349|\n",
    "|  Blue collar   | 30      | 50      | 51      | 20      |151|\n",
    "|  No  collar   | 30      | 40     | 45    | 35    |150|\n",
    "|  Total   | 150   | 150     | 200   | 150   |650|\n"
   ]
  },
  {
   "cell_type": "code",
   "execution_count": 1,
   "metadata": {},
   "outputs": [],
   "source": [
    "# Import libraries.\n",
    "import numpy as np\n",
    "# Data frames.\n",
    "import pandas as pd\n",
    "# Alternative statistics package.\n",
    "import statsmodels.stats.weightstats as stat\n",
    "import scipy.stats as ss   \n",
    "from scipy.stats import chi2"
   ]
  },
  {
   "cell_type": "code",
   "execution_count": 2,
   "metadata": {},
   "outputs": [
    {
     "data": {
      "text/html": [
       "<div>\n",
       "<style scoped>\n",
       "    .dataframe tbody tr th:only-of-type {\n",
       "        vertical-align: middle;\n",
       "    }\n",
       "\n",
       "    .dataframe tbody tr th {\n",
       "        vertical-align: top;\n",
       "    }\n",
       "\n",
       "    .dataframe thead th {\n",
       "        text-align: right;\n",
       "    }\n",
       "</style>\n",
       "<table border=\"1\" class=\"dataframe\">\n",
       "  <thead>\n",
       "    <tr style=\"text-align: right;\">\n",
       "      <th></th>\n",
       "      <th>A</th>\n",
       "      <th>B</th>\n",
       "      <th>C</th>\n",
       "      <th>D</th>\n",
       "    </tr>\n",
       "  </thead>\n",
       "  <tbody>\n",
       "    <tr>\n",
       "      <th>White Collar</th>\n",
       "      <td>90</td>\n",
       "      <td>60</td>\n",
       "      <td>104</td>\n",
       "      <td>95</td>\n",
       "    </tr>\n",
       "    <tr>\n",
       "      <th>Blue Collar</th>\n",
       "      <td>30</td>\n",
       "      <td>50</td>\n",
       "      <td>51</td>\n",
       "      <td>20</td>\n",
       "    </tr>\n",
       "    <tr>\n",
       "      <th>No Collar</th>\n",
       "      <td>30</td>\n",
       "      <td>40</td>\n",
       "      <td>45</td>\n",
       "      <td>35</td>\n",
       "    </tr>\n",
       "  </tbody>\n",
       "</table>\n",
       "</div>"
      ],
      "text/plain": [
       "               A   B    C   D\n",
       "White Collar  90  60  104  95\n",
       "Blue Collar   30  50   51  20\n",
       "No Collar     30  40   45  35"
      ]
     },
     "execution_count": 2,
     "metadata": {},
     "output_type": "execute_result"
    }
   ],
   "source": [
    "# initialise data of lists. \n",
    "data = {'A':[90, 30, 30, ], 'B':[60, 50, 40, ], 'C':[104, 51, 45, ],'D':[95, 20, 35, ], } \n",
    "  \n",
    "# Creates pandas DataFrame. \n",
    "df = pd.DataFrame(data, index =['White Collar', 'Blue Collar', 'No Collar']) \n",
    "  \n",
    "# print the data \n",
    "df "
   ]
  },
  {
   "cell_type": "code",
   "execution_count": 3,
   "metadata": {},
   "outputs": [
    {
     "data": {
      "text/plain": [
       "array([[ 90,  60, 104,  95],\n",
       "       [ 30,  50,  51,  20],\n",
       "       [ 30,  40,  45,  35]], dtype=int64)"
      ]
     },
     "execution_count": 3,
     "metadata": {},
     "output_type": "execute_result"
    }
   ],
   "source": [
    "df.values\n",
    "# Print out all the values in the dataframe above"
   ]
  },
  {
   "cell_type": "code",
   "execution_count": 4,
   "metadata": {},
   "outputs": [
    {
     "name": "stdout",
     "output_type": "stream",
     "text": [
      "Observed Values :-\n",
      " [[ 90  60 104  95]\n",
      " [ 30  50  51  20]\n",
      " [ 30  40  45  35]]\n"
     ]
    }
   ],
   "source": [
    "# Observed Values Code adapted [2.1]\n",
    "Observed_Val = df.values \n",
    "print(\"Observed Values :-\\n\",Observed_Val)"
   ]
  },
  {
   "cell_type": "code",
   "execution_count": 5,
   "metadata": {},
   "outputs": [],
   "source": [
    "# scipy stats function to calculate chi square and p value [2.2]\n",
    "values=ss.chi2_contingency(df) "
   ]
  },
  {
   "cell_type": "code",
   "execution_count": 6,
   "metadata": {},
   "outputs": [
    {
     "data": {
      "text/plain": [
       "(24.5712028585826,\n",
       " 0.0004098425861096696,\n",
       " 6,\n",
       " array([[ 80.53846154,  80.53846154, 107.38461538,  80.53846154],\n",
       "        [ 34.84615385,  34.84615385,  46.46153846,  34.84615385],\n",
       "        [ 34.61538462,  34.61538462,  46.15384615,  34.61538462]]))"
      ]
     },
     "execution_count": 6,
     "metadata": {},
     "output_type": "execute_result"
    }
   ],
   "source": [
    "values"
   ]
  },
  {
   "cell_type": "markdown",
   "metadata": {},
   "source": [
    "Above formula calculates the chi square value, p value, degrees of freedom and array showing the expected values.  I have manually calculated the same below to find out how they are arrived at, if they are accurate and what they mean in relation to the information within the data frame."
   ]
  },
  {
   "cell_type": "code",
   "execution_count": 7,
   "metadata": {},
   "outputs": [
    {
     "name": "stdout",
     "output_type": "stream",
     "text": [
      "Degrees of Freedom:- 6\n"
     ]
    }
   ],
   "source": [
    "# Double check the calculation of Degrees of Freedom\n",
    "# Calculate the number of rows in the table\n",
    "norows=len(df.iloc[0:3,0])\n",
    "nocolumns=len(df.iloc[0,0:4])\n",
    "# Calculate the degree of freedom, (number of rows -1) multiply by (number of columns -1)\n",
    "ddof=(norows-1)*(nocolumns-1)\n",
    "print(\"Degrees of Freedom:-\", ddof)\n",
    "# Set the variance\n",
    "alpha = 0.05"
   ]
  },
  {
   "cell_type": "code",
   "execution_count": 8,
   "metadata": {},
   "outputs": [
    {
     "name": "stdout",
     "output_type": "stream",
     "text": [
      "chi-square statistic:- 24.5712028585826\n",
      "critical_value: 12.591587243743977\n"
     ]
    }
   ],
   "source": [
    "Expected_Val=values[3]\n",
    "\n",
    "# Set chi-square value derived from ss.chi2_contingency to calculate critical and p value.\n",
    "chi_square_statistic=24.5712028585826\n",
    "print(\"chi-square statistic:-\",chi_square_statistic)\n",
    "\n",
    "critical_value=chi2.ppf(q=1-alpha,df=ddof)\n",
    "print('critical_value:',critical_value)"
   ]
  },
  {
   "cell_type": "code",
   "execution_count": 9,
   "metadata": {},
   "outputs": [
    {
     "name": "stdout",
     "output_type": "stream",
     "text": [
      "p-value: 0.0004098425861096544\n",
      "Significance level:  0.05\n",
      "Degree of Freedom:  6\n",
      "p-value: 0.0004098425861096544\n"
     ]
    }
   ],
   "source": [
    "# Calculate p-value\n",
    "p_value=1-chi2.cdf(x=chi_square_statistic,df=ddof)\n",
    "print('p-value:',p_value)\n",
    "print('Significance level: ',alpha)\n",
    "print('Degree of Freedom: ',ddof)\n",
    "print('p-value:',p_value)"
   ]
  },
  {
   "cell_type": "code",
   "execution_count": 10,
   "metadata": {},
   "outputs": [
    {
     "name": "stdout",
     "output_type": "stream",
     "text": [
      "Chi square value is greater than critical value, Reject H0, there is a relationship between location and collar status.\n",
      "P Value less than alpha (5%), Reject H0, there is a relationship between location and collar status.\n"
     ]
    }
   ],
   "source": [
    "# Which hypothesis does the results of the above (chi-square, p value etc.) prove.\n",
    "if chi_square_statistic>=critical_value:\n",
    "    print(\"Chi square value is greater than critical value, Reject H0, there is a relationship between location and collar status.\")\n",
    "else:\n",
    "    print(\"Chi square value is less than critical value, Retain H0, there is no relationship between location and collar status.\")\n",
    "    \n",
    "if p_value<=alpha:\n",
    "    print(\"P Value less than alpha (5%), Reject H0, there is a relationship between location and collar status.\")\n",
    "else:\n",
    "    print(\"P Value greater than alpha (5%), Retain H0, there is no relationship between location and collar status.\")"
   ]
  },
  {
   "cell_type": "markdown",
   "metadata": {},
   "source": [
    "### Run a Hypothesis Test [2.3]\n",
    "***\n",
    "\n",
    "**1. Null & Alternative Hypothesis** <br> <br> \n",
    "If we take A, B, C & D as locations and their populations.<br>\n",
    "Null: Collar and location are not related.<br>\n",
    "Alternative: Collar and location are related.<br>\n",
    "<br>\n",
    "**2. Alpha Level 0.05 (5%)** <br> <br>\n",
    "Alpha is the probability of rejecting a true null hypothesis.  If the alpha level was set to 10% this would increase the chance that the null hypothesis would be rejected.  An alpha level of 1% would be tiny and increase the chance of **NOT**  rejecting the null.  So it is a balancing act to avoid blindly rejecting or accepting the null and possibly incorrectly influencing the result. Therefore a 5% level is widely accepted as a good compromise.  I also look at it as an in inbuilt margin of error, if you are collecting data there may be inconsistencies due to various factors e.g. mishearing a reply or incorrectly recording the response.  This 5% margin of error is modelled into the calculations. [2.4]\n",
    "<br>\n",
    "\n",
    "**3. Calculate Degrees of Freedom** <br> <br>\n",
    "The degrees of freedom (often abbreviated as df or d) tell you how many numbers in your grid are actually independent. For a Chi-square grid, the degrees of freedom can be said to be the number of cells you need to fill in before, given the totals in the margins, you can fill in the rest of the grid using a formula. [2.5] <br> <br>\n",
    "\n",
    "df = (rows - 1) (columns - 1)<br>\n",
    "df = (3-1)(4-1)<br>\n",
    "df = (2)(3) = 6.  This analysis will use 6 degrees of freedom.<br>\n",
    "<br>\n",
    "**4. State Decision Rule**<br> <br>\n",
    "Go to chi square table and using alpha 0.05 and 6 degrees of freedom = critical value of 12.5916<br>\n",
    "So, our decision rule is if the calculated chi square is greater than 12.59 we will end up rejecting the null hypothesis. <br>\n",
    "<br>\n",
    "**5. Calculate chi-square**<br> <br>\n",
    "\n",
    "$$\\chi^2 = \\sum \\frac {(f_o - f_e)^2}{f_e}$$\n",
    "\n",
    "\n",
    "Multiply the frequencies for the columns times the frequency for the rows and then divide by the total number of subjects to get\n",
    "the expected frequency for each cell. e.g. How many white collar wearers are from Area A. We take the column total for A which is 150\n",
    "and multiply it by the row total for white collar which is 349 and we divide by the total number of subjects which is 650. \n",
    "(150*349) / 650 = 80.53.  In this sample we would have expected 80.53 people white collars to be from location A.  Continue the calculation to get the expected values for all the cells.\n",
    "\n"
   ]
  },
  {
   "cell_type": "code",
   "execution_count": 11,
   "metadata": {},
   "outputs": [
    {
     "data": {
      "text/html": [
       "<div>\n",
       "<style scoped>\n",
       "    .dataframe tbody tr th:only-of-type {\n",
       "        vertical-align: middle;\n",
       "    }\n",
       "\n",
       "    .dataframe tbody tr th {\n",
       "        vertical-align: top;\n",
       "    }\n",
       "\n",
       "    .dataframe thead th {\n",
       "        text-align: right;\n",
       "    }\n",
       "</style>\n",
       "<table border=\"1\" class=\"dataframe\">\n",
       "  <thead>\n",
       "    <tr style=\"text-align: right;\">\n",
       "      <th></th>\n",
       "      <th>A (Expected)</th>\n",
       "      <th>B(Expected)</th>\n",
       "      <th>C(Expected)</th>\n",
       "      <th>D(Expected)</th>\n",
       "    </tr>\n",
       "  </thead>\n",
       "  <tbody>\n",
       "    <tr>\n",
       "      <th>Expected White Collar</th>\n",
       "      <td>80.53</td>\n",
       "      <td>80.53</td>\n",
       "      <td>107.36</td>\n",
       "      <td>80.54</td>\n",
       "    </tr>\n",
       "    <tr>\n",
       "      <th>Expected Blue Collar</th>\n",
       "      <td>34.85</td>\n",
       "      <td>34.84</td>\n",
       "      <td>46.46</td>\n",
       "      <td>34.84</td>\n",
       "    </tr>\n",
       "    <tr>\n",
       "      <th>Expected No Collar</th>\n",
       "      <td>34.62</td>\n",
       "      <td>34.62</td>\n",
       "      <td>46.15</td>\n",
       "      <td>34.61</td>\n",
       "    </tr>\n",
       "  </tbody>\n",
       "</table>\n",
       "</div>"
      ],
      "text/plain": [
       "                       A (Expected)  B(Expected)  C(Expected)  D(Expected)\n",
       "Expected White Collar         80.53        80.53       107.36        80.54\n",
       "Expected Blue Collar          34.85        34.84        46.46        34.84\n",
       "Expected No Collar            34.62        34.62        46.15        34.61"
      ]
     },
     "execution_count": 11,
     "metadata": {},
     "output_type": "execute_result"
    }
   ],
   "source": [
    "# initialise data of lists. \n",
    "data = {'A (Expected)':[80.53, 34.85, 34.62 ], 'B(Expected)':[80.53, 34.84, 34.62 ], 'C(Expected)':[107.36, 46.46, 46.15],'D(Expected)':[80.54, 34.84, 34.61], } \n",
    "  \n",
    "# Creates pandas DataFrame. \n",
    "df2 = pd.DataFrame(data, index =['Expected White Collar', 'Expected Blue Collar', 'Expected No Collar']) \n",
    "df2"
   ]
  },
  {
   "cell_type": "code",
   "execution_count": 12,
   "metadata": {},
   "outputs": [
    {
     "data": {
      "text/html": [
       "<div>\n",
       "<style scoped>\n",
       "    .dataframe tbody tr th:only-of-type {\n",
       "        vertical-align: middle;\n",
       "    }\n",
       "\n",
       "    .dataframe tbody tr th {\n",
       "        vertical-align: top;\n",
       "    }\n",
       "\n",
       "    .dataframe thead th {\n",
       "        text-align: right;\n",
       "    }\n",
       "</style>\n",
       "<table border=\"1\" class=\"dataframe\">\n",
       "  <thead>\n",
       "    <tr style=\"text-align: right;\">\n",
       "      <th></th>\n",
       "      <th>A (Expected)</th>\n",
       "      <th>B(Expected)</th>\n",
       "      <th>C(Expected)</th>\n",
       "      <th>D(Expected)</th>\n",
       "    </tr>\n",
       "  </thead>\n",
       "  <tbody>\n",
       "    <tr>\n",
       "      <th>Expected White Collar</th>\n",
       "      <td>80.53</td>\n",
       "      <td>80.53</td>\n",
       "      <td>107.36</td>\n",
       "      <td>80.54</td>\n",
       "    </tr>\n",
       "    <tr>\n",
       "      <th>Expected Blue Collar</th>\n",
       "      <td>34.85</td>\n",
       "      <td>34.84</td>\n",
       "      <td>46.46</td>\n",
       "      <td>34.84</td>\n",
       "    </tr>\n",
       "    <tr>\n",
       "      <th>Expected No Collar</th>\n",
       "      <td>34.62</td>\n",
       "      <td>34.62</td>\n",
       "      <td>46.15</td>\n",
       "      <td>34.61</td>\n",
       "    </tr>\n",
       "  </tbody>\n",
       "</table>\n",
       "</div>"
      ],
      "text/plain": [
       "                       A (Expected)  B(Expected)  C(Expected)  D(Expected)\n",
       "Expected White Collar         80.53        80.53       107.36        80.54\n",
       "Expected Blue Collar          34.85        34.84        46.46        34.84\n",
       "Expected No Collar            34.62        34.62        46.15        34.61"
      ]
     },
     "execution_count": 12,
     "metadata": {},
     "output_type": "execute_result"
    }
   ],
   "source": [
    "# initialise data of lists. \n",
    "data = {'A (Expected)':[80.53, 34.85, 34.62 ], 'B(Expected)':[80.53, 34.84, 34.62 ], 'C(Expected)':[107.36, 46.46, 46.15],'D(Expected)':[80.54, 34.84, 34.61], } \n",
    "  \n",
    "# Creates pandas DataFrame. \n",
    "df2 = pd.DataFrame(data, index =['Expected White Collar', 'Expected Blue Collar', 'Expected No Collar']) \n",
    "df2"
   ]
  },
  {
   "cell_type": "code",
   "execution_count": 13,
   "metadata": {},
   "outputs": [
    {
     "data": {
      "text/html": [
       "<div>\n",
       "<style scoped>\n",
       "    .dataframe tbody tr th:only-of-type {\n",
       "        vertical-align: middle;\n",
       "    }\n",
       "\n",
       "    .dataframe tbody tr th {\n",
       "        vertical-align: top;\n",
       "    }\n",
       "\n",
       "    .dataframe thead th {\n",
       "        text-align: right;\n",
       "    }\n",
       "</style>\n",
       "<table border=\"1\" class=\"dataframe\">\n",
       "  <thead>\n",
       "    <tr style=\"text-align: right;\">\n",
       "      <th></th>\n",
       "      <th>A</th>\n",
       "      <th>B</th>\n",
       "      <th>C</th>\n",
       "      <th>D</th>\n",
       "    </tr>\n",
       "  </thead>\n",
       "  <tbody>\n",
       "    <tr>\n",
       "      <th>White Collar</th>\n",
       "      <td>90 (80.53)</td>\n",
       "      <td>60 (80.53)</td>\n",
       "      <td>104 (107.36)</td>\n",
       "      <td>95 (80.54)</td>\n",
       "    </tr>\n",
       "    <tr>\n",
       "      <th>Blue Collar</th>\n",
       "      <td>30 (34.85)</td>\n",
       "      <td>50 (34.84)</td>\n",
       "      <td>51 (46.46)</td>\n",
       "      <td>20 (34.85)</td>\n",
       "    </tr>\n",
       "    <tr>\n",
       "      <th>No Collar</th>\n",
       "      <td>30 (34.62)</td>\n",
       "      <td>40 (34.62)</td>\n",
       "      <td>45 (46.15)</td>\n",
       "      <td>35 (34.61)</td>\n",
       "    </tr>\n",
       "  </tbody>\n",
       "</table>\n",
       "</div>"
      ],
      "text/plain": [
       "                       A           B             C           D\n",
       "White Collar  90 (80.53)  60 (80.53)  104 (107.36)  95 (80.54)\n",
       "Blue Collar   30 (34.85)  50 (34.84)    51 (46.46)  20 (34.85)\n",
       "No Collar     30 (34.62)  40 (34.62)    45 (46.15)  35 (34.61)"
      ]
     },
     "execution_count": 13,
     "metadata": {},
     "output_type": "execute_result"
    }
   ],
   "source": [
    "# initialise data of lists. \n",
    "data = {'A':[\"90 (80.53)\", \"30 (34.85)\", \"30 (34.62)\", ], 'B':[\"60 (80.53)\", \"50 (34.84)\", \"40 (34.62)\", ], 'C':[\"104 (107.36)\", \"51 (46.46)\", \"45 (46.15)\", ],'D':[\"95 (80.54)\", \"20 (34.85)\", \"35 (34.61)\", ], } \n",
    "  \n",
    "# Creates pandas DataFrame. \n",
    "df3 = pd.DataFrame(data, index =['White Collar', 'Blue Collar', 'No Collar']) \n",
    "  \n",
    "# print the data \n",
    "df3 \n",
    "\n",
    "# Below shows the observed values and next to them in brackets are the expected values."
   ]
  },
  {
   "cell_type": "markdown",
   "metadata": {},
   "source": [
    "Again, calculate chi squared this time taking all the observed values, subtracting the expected values from it, squaring the result and finally dividing by the expected values to get 12 different fractions."
   ]
  },
  {
   "cell_type": "markdown",
   "metadata": {},
   "source": [
    "**5.**  $$\\chi^2 = \\sum \\frac {(f_o - f_e)^2}{f_e}$$"
   ]
  },
  {
   "cell_type": "markdown",
   "metadata": {},
   "source": [
    "$$\\chi^2 = \\frac {(90 - 80.53)^2}{80.53} + \\frac {(60 - 80.53)^2}{80.53} + \\frac {(104 - 107.36)^2}{107.36} + \\frac {(95 - 80.54)^2}{80.54} + \\frac {(30 - 34.85)^2}{34.85}+ \\frac {(50 - 34.84)^2}{34.84} + \\frac {(51 - 46.46)^2}{46.46} + \\frac {(20 - 34.85)^2}{34.85} + \\frac {(30 - 34.62)^2}{34.62} + \\frac {(40 - 34.62)^2}{34.62} + \\frac {(45 - 46.15)^2}{46.15} + \\frac {(35 - 34.61)^2}{34.61} $$"
   ]
  },
  {
   "cell_type": "markdown",
   "metadata": {},
   "source": [
    "Adding all the above together results in a chi squared of 24.66.  Allowing for rounding differences is quite close to 24.6.  The chi-square was greater than 12.5916 so we reject the null hypothesis that collar and location are not related and can say that there is a relationship between location and collar status."
   ]
  },
  {
   "cell_type": "markdown",
   "metadata": {},
   "source": [
    "#### Rough Work to double check the P value\n",
    "***"
   ]
  },
  {
   "cell_type": "code",
   "execution_count": 14,
   "metadata": {},
   "outputs": [
    {
     "data": {
      "text/plain": [
       "0.00040987793499886133"
      ]
     },
     "execution_count": 14,
     "metadata": {},
     "output_type": "execute_result"
    }
   ],
   "source": [
    "from scipy import stats\n",
    "# Set the chi-square value and degrees of freedom [2.6]\n",
    "a=stats.chi2.pdf(24.66 , 6)\n",
    "# Format the output to 20 decimal places\n",
    "f'{a:.20f}'\n",
    "stats.chi2.sf(24.571, 6)"
   ]
  },
  {
   "cell_type": "code",
   "execution_count": 15,
   "metadata": {},
   "outputs": [
    {
     "name": "stdout",
     "output_type": "stream",
     "text": [
      "Critical value\n",
      "12.591587243743977\n",
      "P value\n",
      "0.00040987793499891456\n"
     ]
    }
   ],
   "source": [
    "# Calculate critical value. [2.7]\n",
    "crit = stats.chi2.ppf(q = 0.95, # Find the critical value for 95% confidence*\n",
    "                      df = 6)   # Df = number of variable categories - 1\n",
    "print(\"Critical value\")\n",
    "print(crit)\n",
    "\n",
    "# Set the degree of freedom and chi-square value to calculate p value.\n",
    "p_value = 1 - stats.chi2.cdf(x=24.571,  # Find the p-value\n",
    "                             df=6)\n",
    "print(\"P value\")\n",
    "print(p_value)"
   ]
  },
  {
   "cell_type": "code",
   "execution_count": 16,
   "metadata": {},
   "outputs": [
    {
     "data": {
      "text/plain": [
       "0.00040987793499891456"
      ]
     },
     "execution_count": 16,
     "metadata": {},
     "output_type": "execute_result"
    }
   ],
   "source": [
    "# Cumulative Distribution Function: this is the mass of probability of the function up to a given point; what percentage of the distribution lies on one side of this point [2.8]\n",
    "1 - stats.chi2.cdf(24.571, 6)\n"
   ]
  },
  {
   "cell_type": "markdown",
   "metadata": {},
   "source": [
    "***"
   ]
  },
  {
   "cell_type": "markdown",
   "metadata": {},
   "source": [
    "### Conclusion:  \n",
    "***\n",
    "\n",
    "The formula to calculate both the Chi-squared and its associated p value can be easily arrived at by using cipy.stats.chi2_contingency.  I went a bit further and looked at how to manually calculate it so as to acquaint myself with the theory behind it and how it works, both to get a better understanding about it and to verify the results.  \n",
    "\n",
    "My results are that the Chi-squared value is approximately 24.6 and its associated P value is 0.00040987793499891456.  If the chi-squared value was 0 then that would indicate that the actual data and expected data were identical with no difference.  This is not the case here as the value is 24.6.  The lower the number the greater chance of both actual and expected data being similar.  24.6 is not very high so would indicate that both actual and expected values were broadly similar.  \n",
    "\n",
    "The P value is far less than alpha 0.00040987793499891456 vs 0.05 and is statistically significant.   It indicates strong evidence against the null hypothesis.  Therefore, the null hypothesis is rejected, the alternative hypothesis is accepted and conclude that location and collar status are not independent of each other and there is a relationship between them.  What it doesn’t do is provide insights on how the variables are dependent or what kind of relationship exists, just there is a relationship.\n",
    "\n",
    "<br> <br>From taking a quick look at the actual vs expected values, it appears that there is a big difference in white collar in area B.  It is significantly lower than expected.  This trend is continued through to the blue collar in the same area but to the opposite effect.  There are a greater number of actual values as opposed to the expected.  \n",
    "\n",
    "The no collar category also has the biggest difference in area B where actual is greater than expected.  Area C seems broadly in line where expected meets actual values.  It could be interesting that Area B with the biggest differences between expected and actual is beside area C with the nearest matching values.  \n",
    "\n",
    "There is a noticeable difference in area D for blue collar with the actual value a lot smaller than the expected.  Conversely the opposite again appears for white collar in D where there the actual values are a lot higher than expected.  There seems to be an opposite effect on the values between blue collar and white collar.  Where there is a higher than expected value for one, it has the effect of negatively influencing the other resulting in lower than expected values.  Without further information it would be hard to identify a reason for this but it may be that area D is more expensive hence the greater white collar values.  If that was the case then the opposite could be said for area B with a lot less than expected white collar but higher than expected blue collar.  \n",
    "***\n",
    "***"
   ]
  },
  {
   "cell_type": "markdown",
   "metadata": {},
   "source": [
    "#### References:\n",
    "    \n",
    "[2.1] krishnaik06, (2020), Hypothesis_Testing, https://github.com/krishnaik06/T-test-an-Correlation-using-python/blob/master/Hypothesis_Testing.ipynb, accessed October 2020.<br>\n",
    "[2.2] docs.python.org, scipy.stats.chi2_contingency, https://docs.scipy.org/doc/scipy/reference/generated/scipy.stats.chi2_contingency.html, accessed October 2020. <br>\n",
    "[2.3] statslectures, (2010), Chi-Square Test for Independence, https://www.youtube.com/watch?v=LE3AIyY_cn8&ab_channel=statslectures, accessed November 2020. <br>\n",
    "[2.4] Stephanie, (2012), Statistics How To, Alpha Level (Significance Level): What is it?, https://www.statisticshowto.com/what-is-an-alpha-level/, accessed November 2020.  <br> \n",
    "[2.5] Ling 300, (2008), Tutorial: Pearson's Chi-square Test for Independence, https://www.ling.upenn.edu/~clight/chisquared.htm, accessed November 2020. <br> \n",
    "[2.6] docs.scipy.org, (2020), scipy.stats.chi2_contingency, https://docs.scipy.org/doc/scipy/reference/generated/scipy.stats.chi2_contingency.html, accessed November 2020.   <br> \n",
    "[2.7] Greg Hamel, (2018), Python for Data 25: Chi-Squared Tests, https://www.kaggle.com/hamelg/python-for-data-25-chi-squared-tests, accessed November 2020.    <br>\n",
    "[2.8] learner, (2013), P-value from Chi sq test statistic in Python, https://stackoverflow.com/questions/11725115/p-value-from-chi-sq-test-statistic-in-python, accessed November 2020.\n",
    "    \n",
    "\n",
    "Other sites accessed:\n",
    "\n",
    " *   ResearchGate, (2015), https://www.researchgate.net/post/What_is_the_role_of_p-value_in_chi_square_test_of_difference, accessed November 2020.\n",
    "    \n",
    " *   Stephanie Glen, (2020), Chi-Square Statistic: How to Calculate It / Distribution, https://www.statisticshowto.com/probability-and-statistics/chi-square/#:~:text=First%20state%20the%20null%20hypothesis,or%20%E2%80%9Csmall%20enough%E2%80%9D)., accessed November 2020.\n",
    "    \n",
    " *   Mathsisfun, (2019), Chi-Square Test, https://www.mathsisfun.com/data/chi-square-test.html, accessed November 2020.\n",
    "    \n",
    " *   Saul McLeod, (2019), What a p-value tells you about statistical significance, https://www.simplypsychology.org/p-value.html, accessed November 2020.\n",
    "    \n",
    "    \n",
    "    "
   ]
  },
  {
   "cell_type": "code",
   "execution_count": null,
   "metadata": {},
   "outputs": [],
   "source": []
  }
 ],
 "metadata": {
  "kernelspec": {
   "display_name": "Python 3",
   "language": "python",
   "name": "python3"
  },
  "language_info": {
   "codemirror_mode": {
    "name": "ipython",
    "version": 3
   },
   "file_extension": ".py",
   "mimetype": "text/x-python",
   "name": "python",
   "nbconvert_exporter": "python",
   "pygments_lexer": "ipython3",
   "version": "3.8.5"
  }
 },
 "nbformat": 4,
 "nbformat_minor": 4
}
