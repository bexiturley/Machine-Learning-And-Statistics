{
 "cells": [
  {
   "cell_type": "code",
   "execution_count": 1,
   "metadata": {},
   "outputs": [],
   "source": [
    "# Efficient numerical arrays.\n",
    "import numpy as np\n",
    "# Data frames.\n",
    "import pandas as pd\n",
    "# Alternative statistics package.\n",
    "import statsmodels.stats.weightstats as stat\n",
    "# Mains statistics package.\n",
    "import scipy.stats as ss\n",
    "# Plotting.\n",
    "import matplotlib.pyplot as plt\n",
    "# Fancier plotting.\n",
    "import seaborn as sns\n",
    "\n",
    "# Better sized plots.\n",
    "plt.rcParams['figure.figsize'] = (12, 8)\n",
    "\n",
    "# Nicer colours and styles for plots.\n",
    "plt.style.use(\"fivethirtyeight\")\n"
   ]
  },
  {
   "cell_type": "code",
   "execution_count": 2,
   "metadata": {},
   "outputs": [
    {
     "data": {
      "text/html": [
       "<div>\n",
       "<style scoped>\n",
       "    .dataframe tbody tr th:only-of-type {\n",
       "        vertical-align: middle;\n",
       "    }\n",
       "\n",
       "    .dataframe tbody tr th {\n",
       "        vertical-align: top;\n",
       "    }\n",
       "\n",
       "    .dataframe thead th {\n",
       "        text-align: right;\n",
       "    }\n",
       "</style>\n",
       "<table border=\"1\" class=\"dataframe\">\n",
       "  <thead>\n",
       "    <tr style=\"text-align: right;\">\n",
       "      <th></th>\n",
       "      <th>A</th>\n",
       "      <th>B</th>\n",
       "      <th>C</th>\n",
       "      <th>D</th>\n",
       "    </tr>\n",
       "  </thead>\n",
       "  <tbody>\n",
       "    <tr>\n",
       "      <th>White Collar</th>\n",
       "      <td>90</td>\n",
       "      <td>60</td>\n",
       "      <td>104</td>\n",
       "      <td>95</td>\n",
       "    </tr>\n",
       "    <tr>\n",
       "      <th>Blue Collar</th>\n",
       "      <td>30</td>\n",
       "      <td>50</td>\n",
       "      <td>51</td>\n",
       "      <td>20</td>\n",
       "    </tr>\n",
       "    <tr>\n",
       "      <th>No Collar</th>\n",
       "      <td>30</td>\n",
       "      <td>40</td>\n",
       "      <td>45</td>\n",
       "      <td>35</td>\n",
       "    </tr>\n",
       "  </tbody>\n",
       "</table>\n",
       "</div>"
      ],
      "text/plain": [
       "               A   B    C   D\n",
       "White Collar  90  60  104  95\n",
       "Blue Collar   30  50   51  20\n",
       "No Collar     30  40   45  35"
      ]
     },
     "execution_count": 2,
     "metadata": {},
     "output_type": "execute_result"
    }
   ],
   "source": [
    "# Python code demonstrate creating  \n",
    "# pandas DataFrame with indexed by  \n",
    "  \n",
    "# DataFrame using arrays. \n",
    "import pandas as pd \n",
    "  \n",
    "# initialise data of lists. \n",
    "data = {'A':[90, 30, 30, ], 'B':[60, 50, 40, ], 'C':[104, 51, 45, ],'D':[95, 20, 35, ], } \n",
    "  \n",
    "# Creates pandas DataFrame. \n",
    "df = pd.DataFrame(data, index =['White Collar', 'Blue Collar', 'No Collar']) \n",
    "  \n",
    "# print the data \n",
    "df "
   ]
  },
  {
   "cell_type": "code",
   "execution_count": 3,
   "metadata": {},
   "outputs": [
    {
     "data": {
      "text/html": [
       "<div>\n",
       "<style scoped>\n",
       "    .dataframe tbody tr th:only-of-type {\n",
       "        vertical-align: middle;\n",
       "    }\n",
       "\n",
       "    .dataframe tbody tr th {\n",
       "        vertical-align: top;\n",
       "    }\n",
       "\n",
       "    .dataframe thead th {\n",
       "        text-align: right;\n",
       "    }\n",
       "</style>\n",
       "<table border=\"1\" class=\"dataframe\">\n",
       "  <thead>\n",
       "    <tr style=\"text-align: right;\">\n",
       "      <th></th>\n",
       "      <th>A</th>\n",
       "      <th>B</th>\n",
       "      <th>C</th>\n",
       "      <th>D</th>\n",
       "    </tr>\n",
       "  </thead>\n",
       "  <tbody>\n",
       "    <tr>\n",
       "      <th>White Collar</th>\n",
       "      <td>90</td>\n",
       "      <td>60</td>\n",
       "      <td>104</td>\n",
       "      <td>95</td>\n",
       "    </tr>\n",
       "    <tr>\n",
       "      <th>Blue Collar</th>\n",
       "      <td>30</td>\n",
       "      <td>50</td>\n",
       "      <td>51</td>\n",
       "      <td>20</td>\n",
       "    </tr>\n",
       "    <tr>\n",
       "      <th>No Collar</th>\n",
       "      <td>30</td>\n",
       "      <td>40</td>\n",
       "      <td>45</td>\n",
       "      <td>35</td>\n",
       "    </tr>\n",
       "  </tbody>\n",
       "</table>\n",
       "</div>"
      ],
      "text/plain": [
       "               A   B    C   D\n",
       "White Collar  90  60  104  95\n",
       "Blue Collar   30  50   51  20\n",
       "No Collar     30  40   45  35"
      ]
     },
     "execution_count": 3,
     "metadata": {},
     "output_type": "execute_result"
    }
   ],
   "source": [
    "df.head()"
   ]
  },
  {
   "cell_type": "code",
   "execution_count": 4,
   "metadata": {},
   "outputs": [
    {
     "data": {
      "text/plain": [
       "array([[ 90,  60, 104,  95],\n",
       "       [ 30,  50,  51,  20],\n",
       "       [ 30,  40,  45,  35]], dtype=int64)"
      ]
     },
     "execution_count": 4,
     "metadata": {},
     "output_type": "execute_result"
    }
   ],
   "source": [
    "df.values"
   ]
  },
  {
   "cell_type": "code",
   "execution_count": 5,
   "metadata": {},
   "outputs": [],
   "source": [
    "val=ss.chi2_contingency(df)\n",
    "#"
   ]
  },
  {
   "cell_type": "code",
   "execution_count": 6,
   "metadata": {},
   "outputs": [
    {
     "data": {
      "text/plain": [
       "(24.5712028585826,\n",
       " 0.0004098425861096696,\n",
       " 6,\n",
       " array([[ 80.53846154,  80.53846154, 107.38461538,  80.53846154],\n",
       "        [ 34.84615385,  34.84615385,  46.46153846,  34.84615385],\n",
       "        [ 34.61538462,  34.61538462,  46.15384615,  34.61538462]]))"
      ]
     },
     "execution_count": 6,
     "metadata": {},
     "output_type": "execute_result"
    }
   ],
   "source": [
    "val"
   ]
  },
  {
   "cell_type": "markdown",
   "metadata": {},
   "source": [
    "1. Null & Alternative Hypothese <br>\n",
    "If we take A, B, C & D as locations and their populations;<br>\n",
    "Null: Collar and location are not related.<br>\n",
    "Alternative: Collar and location are related.<br>\n",
    "<br>\n",
    "2. Alpha always 0.05<br>\n",
    "<br>\n",
    "3. Calculate Degrees of Freedom<br>\n",
    "df = (rows - 1) (columns - 1)<br>\n",
    "df = (3-1)(4-1)<br>\n",
    "df = (2)(3) = 6.  This analysis will use 6 degrees of freedom.<br>\n",
    "<br>\n",
    "4. State Decision Rule<br>\n",
    "Go to chi square table and using alpha 0.05 and 6 degrees of freedom = critical value of 12.5916<br>\n",
    "So our decision rule is if the calcuated chi square is greater than 12.59 we will end up rejecting the null hypothesis. <br>\n",
    "<br>\n",
    "5. Calculate chi-square<br>\n",
    "\n",
    "$$\\chi^2 = \\sum \\frac {(f_o - f_e)^2}{f_e}$$\n",
    "\n",
    "\n",
    "Multiply the frequencies for the columns times the frequency for the rows and then divide by the total number of subjects to get\n",
    "the expected frequency for each cell. eg. How many white collar wearers are from Area A. We take the column total for A which is 150\n",
    "and multiply it by the row total for white collar which is 349 and we divide by the total number of subjects which is 650. \n",
    "(150*349) / 650 = 80.53.  In this sample we would have expected 80.53 people white collars to be from location A.  Continue the calculation to get the expected values for all the cells.\n",
    "\n"
   ]
  },
  {
   "cell_type": "code",
   "execution_count": 7,
   "metadata": {},
   "outputs": [
    {
     "data": {
      "text/html": [
       "<div>\n",
       "<style scoped>\n",
       "    .dataframe tbody tr th:only-of-type {\n",
       "        vertical-align: middle;\n",
       "    }\n",
       "\n",
       "    .dataframe tbody tr th {\n",
       "        vertical-align: top;\n",
       "    }\n",
       "\n",
       "    .dataframe thead th {\n",
       "        text-align: right;\n",
       "    }\n",
       "</style>\n",
       "<table border=\"1\" class=\"dataframe\">\n",
       "  <thead>\n",
       "    <tr style=\"text-align: right;\">\n",
       "      <th></th>\n",
       "      <th>A (Expected)</th>\n",
       "      <th>B(Expected)</th>\n",
       "      <th>C(Expected)</th>\n",
       "      <th>D(Expected)</th>\n",
       "    </tr>\n",
       "  </thead>\n",
       "  <tbody>\n",
       "    <tr>\n",
       "      <th>Expected White Collar</th>\n",
       "      <td>80.53</td>\n",
       "      <td>80.53</td>\n",
       "      <td>107.36</td>\n",
       "      <td>80.54</td>\n",
       "    </tr>\n",
       "    <tr>\n",
       "      <th>Expected Blue Collar</th>\n",
       "      <td>34.85</td>\n",
       "      <td>34.84</td>\n",
       "      <td>46.46</td>\n",
       "      <td>34.84</td>\n",
       "    </tr>\n",
       "    <tr>\n",
       "      <th>Expected No Collar</th>\n",
       "      <td>34.62</td>\n",
       "      <td>34.62</td>\n",
       "      <td>46.15</td>\n",
       "      <td>34.61</td>\n",
       "    </tr>\n",
       "  </tbody>\n",
       "</table>\n",
       "</div>"
      ],
      "text/plain": [
       "                       A (Expected)  B(Expected)  C(Expected)  D(Expected)\n",
       "Expected White Collar         80.53        80.53       107.36        80.54\n",
       "Expected Blue Collar          34.85        34.84        46.46        34.84\n",
       "Expected No Collar            34.62        34.62        46.15        34.61"
      ]
     },
     "execution_count": 7,
     "metadata": {},
     "output_type": "execute_result"
    }
   ],
   "source": [
    "# initialise data of lists. \n",
    "data = {'A (Expected)':[80.53, 34.85, 34.62 ], 'B(Expected)':[80.53, 34.84, 34.62 ], 'C(Expected)':[107.36, 46.46, 46.15],'D(Expected)':[80.54, 34.84, 34.61], } \n",
    "  \n",
    "# Creates pandas DataFrame. \n",
    "df2 = pd.DataFrame(data, index =['Expected White Collar', 'Expected Blue Collar', 'Expected No Collar']) \n",
    "df2"
   ]
  },
  {
   "cell_type": "code",
   "execution_count": 8,
   "metadata": {},
   "outputs": [
    {
     "data": {
      "text/html": [
       "<div>\n",
       "<style scoped>\n",
       "    .dataframe tbody tr th:only-of-type {\n",
       "        vertical-align: middle;\n",
       "    }\n",
       "\n",
       "    .dataframe tbody tr th {\n",
       "        vertical-align: top;\n",
       "    }\n",
       "\n",
       "    .dataframe thead th {\n",
       "        text-align: right;\n",
       "    }\n",
       "</style>\n",
       "<table border=\"1\" class=\"dataframe\">\n",
       "  <thead>\n",
       "    <tr style=\"text-align: right;\">\n",
       "      <th></th>\n",
       "      <th>A (Expected)</th>\n",
       "      <th>B(Expected)</th>\n",
       "      <th>C(Expected)</th>\n",
       "      <th>D(Expected)</th>\n",
       "    </tr>\n",
       "  </thead>\n",
       "  <tbody>\n",
       "    <tr>\n",
       "      <th>Expected White Collar</th>\n",
       "      <td>80.53</td>\n",
       "      <td>80.53</td>\n",
       "      <td>107.36</td>\n",
       "      <td>80.54</td>\n",
       "    </tr>\n",
       "    <tr>\n",
       "      <th>Expected Blue Collar</th>\n",
       "      <td>34.85</td>\n",
       "      <td>34.84</td>\n",
       "      <td>46.46</td>\n",
       "      <td>34.84</td>\n",
       "    </tr>\n",
       "    <tr>\n",
       "      <th>Expected No Collar</th>\n",
       "      <td>34.62</td>\n",
       "      <td>34.62</td>\n",
       "      <td>46.15</td>\n",
       "      <td>34.61</td>\n",
       "    </tr>\n",
       "  </tbody>\n",
       "</table>\n",
       "</div>"
      ],
      "text/plain": [
       "                       A (Expected)  B(Expected)  C(Expected)  D(Expected)\n",
       "Expected White Collar         80.53        80.53       107.36        80.54\n",
       "Expected Blue Collar          34.85        34.84        46.46        34.84\n",
       "Expected No Collar            34.62        34.62        46.15        34.61"
      ]
     },
     "execution_count": 8,
     "metadata": {},
     "output_type": "execute_result"
    }
   ],
   "source": [
    "# initialise data of lists. \n",
    "data = {'A (Expected)':[80.53, 34.85, 34.62 ], 'B(Expected)':[80.53, 34.84, 34.62 ], 'C(Expected)':[107.36, 46.46, 46.15],'D(Expected)':[80.54, 34.84, 34.61], } \n",
    "  \n",
    "# Creates pandas DataFrame. \n",
    "df2 = pd.DataFrame(data, index =['Expected White Collar', 'Expected Blue Collar', 'Expected No Collar']) \n",
    "df2"
   ]
  },
  {
   "cell_type": "code",
   "execution_count": 28,
   "metadata": {},
   "outputs": [
    {
     "data": {
      "text/html": [
       "<div>\n",
       "<style scoped>\n",
       "    .dataframe tbody tr th:only-of-type {\n",
       "        vertical-align: middle;\n",
       "    }\n",
       "\n",
       "    .dataframe tbody tr th {\n",
       "        vertical-align: top;\n",
       "    }\n",
       "\n",
       "    .dataframe thead th {\n",
       "        text-align: right;\n",
       "    }\n",
       "</style>\n",
       "<table border=\"1\" class=\"dataframe\">\n",
       "  <thead>\n",
       "    <tr style=\"text-align: right;\">\n",
       "      <th></th>\n",
       "      <th>A</th>\n",
       "      <th>B</th>\n",
       "      <th>C</th>\n",
       "      <th>D</th>\n",
       "    </tr>\n",
       "  </thead>\n",
       "  <tbody>\n",
       "    <tr>\n",
       "      <th>White Collar</th>\n",
       "      <td>90 (80.53)</td>\n",
       "      <td>60 (80.53)</td>\n",
       "      <td>104 (107.36)</td>\n",
       "      <td>95 (80.54)</td>\n",
       "    </tr>\n",
       "    <tr>\n",
       "      <th>Blue Collar</th>\n",
       "      <td>30 (34.85)</td>\n",
       "      <td>50 (34.84)</td>\n",
       "      <td>51 (46.46)</td>\n",
       "      <td>20 (34.85)</td>\n",
       "    </tr>\n",
       "    <tr>\n",
       "      <th>No Collar</th>\n",
       "      <td>30 (34.62)</td>\n",
       "      <td>40 (34.62)</td>\n",
       "      <td>45 (46.15)</td>\n",
       "      <td>35 (34.61)</td>\n",
       "    </tr>\n",
       "  </tbody>\n",
       "</table>\n",
       "</div>"
      ],
      "text/plain": [
       "                       A           B             C           D\n",
       "White Collar  90 (80.53)  60 (80.53)  104 (107.36)  95 (80.54)\n",
       "Blue Collar   30 (34.85)  50 (34.84)    51 (46.46)  20 (34.85)\n",
       "No Collar     30 (34.62)  40 (34.62)    45 (46.15)  35 (34.61)"
      ]
     },
     "execution_count": 28,
     "metadata": {},
     "output_type": "execute_result"
    }
   ],
   "source": [
    "# initialise data of lists. \n",
    "data = {'A':[\"90 (80.53)\", \"30 (34.85)\", \"30 (34.62)\", ], 'B':[\"60 (80.53)\", \"50 (34.84)\", \"40 (34.62)\", ], 'C':[\"104 (107.36)\", \"51 (46.46)\", \"45 (46.15)\", ],'D':[\"95 (80.54)\", \"20 (34.85)\", \"35 (34.61)\", ], } \n",
    "  \n",
    "# Creates pandas DataFrame. \n",
    "df3 = pd.DataFrame(data, index =['White Collar', 'Blue Collar', 'No Collar']) \n",
    "  \n",
    "# print the data \n",
    "df3 \n",
    "\n",
    "# Below shows the observed values and next to them in brackets are the expected values."
   ]
  },
  {
   "cell_type": "markdown",
   "metadata": {},
   "source": [
    "Again calculate chi squared this time taking all the observed values, subtracting the expected values from it, squaring the result and finally dividing by the expected values to get 12 different fractions."
   ]
  },
  {
   "cell_type": "markdown",
   "metadata": {},
   "source": [
    "5. $$\\chi^2 = \\sum \\frac {(f_o - f_e)^2}{f_e}$$"
   ]
  },
  {
   "cell_type": "markdown",
   "metadata": {},
   "source": [
    "$$\\chi^2 = \\frac {(90 - 80.53)^2}{80.53} + \\frac {(60 - 80.53)^2}{80.53} + \\frac {(104 - 107.36)^2}{107.36} + \\frac {(95 - 80.54)^2}{80.54} + \\frac {(30 - 34.85)^2}{34.85}+ \\frac {(50 - 34.84)^2}{34.84} + \\frac {(51 - 46.46)^2}{46.46} + \\frac {(20 - 34.85)^2}{34.85} + \\frac {(30 - 34.62)^2}{34.62} + \\frac {(40 - 34.62)^2}{34.62} + \\frac {(45 - 46.15)^2}{46.15} + \\frac {(35 - 34.61)^2}{34.61} $$"
   ]
  },
  {
   "cell_type": "markdown",
   "metadata": {},
   "source": [
    "Adding all the above together results in a chi squared of 24.66.  Allowing for rounding differences is quite close to 24.6.  The chi-square was greater than 12.5916 so we reject the null hypothesis that collar and location are not related and can say that there is a relationship between location and collar status."
   ]
  },
  {
   "cell_type": "code",
   "execution_count": null,
   "metadata": {},
   "outputs": [],
   "source": []
  },
  {
   "cell_type": "code",
   "execution_count": null,
   "metadata": {},
   "outputs": [],
   "source": []
  },
  {
   "cell_type": "markdown",
   "metadata": {},
   "source": [
    "References:\n",
    "    \n",
    "    https://www.youtube.com/watch?v=w5iKu1IrTJQ&ab_channel=KrishNaik\n",
    "    https://www.youtube.com/watch?v=LE3AIyY_cn8&ab_channel=statslectures\n",
    "    "
   ]
  }
 ],
 "metadata": {
  "kernelspec": {
   "display_name": "Python 3",
   "language": "python",
   "name": "python3"
  },
  "language_info": {
   "codemirror_mode": {
    "name": "ipython",
    "version": 3
   },
   "file_extension": ".py",
   "mimetype": "text/x-python",
   "name": "python",
   "nbconvert_exporter": "python",
   "pygments_lexer": "ipython3",
   "version": "3.8.5"
  }
 },
 "nbformat": 4,
 "nbformat_minor": 4
}
