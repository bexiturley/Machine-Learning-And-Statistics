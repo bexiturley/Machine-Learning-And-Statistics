{
 "cells": [
  {
   "cell_type": "markdown",
   "metadata": {},
   "source": [
    "### Task 3:\n",
    "***\n",
    "November 16th, 2020: The standard deviation of an array of numbers x is\n",
    "calculated using numpy as np.sqrt(np.sum((x - np.mean(x))**2)/len(x)) .\n",
    "However, Microsoft Excel has two different versions of the standard deviation calculation, STDDEV.P and STDEV.S . The STDDEV.P function performs the above\n",
    "calculation but in the STDEV.S calculation the division is by len(x)-1 rather\n",
    "than len(x) . Research these Excel functions, writing a note in a Markdown cell\n",
    "about the difference between them. Then use numpy to perform a simulation\n",
    "demonstrating that the STDEV.S calculation is a better estimate for the standard deviation of a population when performed on a sample. Note that part of\n",
    "this task is to figure out the terminology in the previous sentence.\n",
    "***"
   ]
  },
  {
   "cell_type": "markdown",
   "metadata": {},
   "source": [
    "Standard deviation is a measure of variability and measures the average distance a number is from its mean.\n",
    "\n",
    "The STDEV.P function is used to calculate the standard deviation of the whole population.[3.1] The P stands for population.  This will deal with the accuracy issue of STDEV.S.\n",
    "\n",
    "$$ \\sigma  = \\sqrt \\frac{\\sum {\\left( {x_i  - \\mu} \\right)^2 } } {N} $$ [3.2]\n",
    "\n",
    "To calculate the standard deviation Sigma (population standard deviation) equals the square root of the sum of squares using  mu (the population mean), divided by the sample size.\n",
    "\n",
    "\n",
    "The Excel STDEV.S Function is used to calculate the standard deviation in the sample data set. The S in STDEV.S stands for Sample.  It means there is more data out there than we currently have. So the real standard deviation of the data is not known. We have a piece of it so will try and calculate it from the piece we do have. [3.3]  A sample may be used as it is easier and cheaper than having to to look at all of the population but does not take into account the possible bias if the sample set is taken which doesnt adequately represent the full population so accuracy is lost. And maybe there is no access to the entire population.\n",
    "\n",
    "The formula for Sample Standard Deviation is:\n",
    "$$ s  = \\sqrt \\frac{\\sum {\\left( {x_i  - \\bar x} \\right)^2 } } {n-1} $$ [3.2]\n",
    "\n",
    "S (sample standard deviation) is equal to the square root of the sum of squares using the sample mean x-bar divided by the sample size minus one.\n",
    "\n",
    "If the same values were given for both formulas the sample standard deviation will result in a higher value for the standard deviation as the sample size minus one is the denominator.  A standard deviation of a sample can underestimate the true population standard deviation so when the formula is used, estimating the population standard deviation using a sample, the standard deviation for the sample itself is still the population standard deviation.  The true standard deviation for the results would use the STDEV.P formula.  The STDEV.S would be used when you want to estimate what the true population standard deviation is based on a sample.\n",
    "\n",
    "\n"
   ]
  },
  {
   "cell_type": "markdown",
   "metadata": {},
   "source": [
    "https://honingds.com/blog/python-standard-deviation/\n",
    "\n",
    "\n",
    "numpy uses population standard deviation by default, which is similar to pstdev of statistics module.\n",
    "\n",
    "If you want to use it to calculate sample standard deviation, use an additional parameter, called ddof and set it to 1.\n",
    "\n",
    "By default ddof is 0.\n",
    "\n",
    "Let’s now calculate standard deviation using numpy.std for a sample of the data.\n",
    "\n",
    "This result will be same as what we got when we used stdev of statistics module."
   ]
  },
  {
   "cell_type": "markdown",
   "metadata": {},
   "source": [
    "***\n",
    "##### Taking a look at the various ways to calculate STDEV.P and STDEV.S and see if the results are the same.\n"
   ]
  },
  {
   "cell_type": "code",
   "execution_count": 1,
   "metadata": {},
   "outputs": [
    {
     "data": {
      "text/plain": [
       "2.9832867780352594"
      ]
     },
     "execution_count": 1,
     "metadata": {},
     "output_type": "execute_result"
    }
   ],
   "source": [
    "import numpy as np\n",
    "# Set the range of numbers to be used in different formulas and call it x\n",
    "x =  ([9,2,5,4,12,7,8,11,9,3,7,4,12,5,4,10,9,6,9,4])\n",
    "# Returns the standard deviation (same as STDEV.P)\n",
    "np.std (x)"
   ]
  },
  {
   "cell_type": "code",
   "execution_count": 2,
   "metadata": {},
   "outputs": [
    {
     "data": {
      "text/plain": [
       "3.0607876523260447"
      ]
     },
     "execution_count": 2,
     "metadata": {},
     "output_type": "execute_result"
    }
   ],
   "source": [
    "# Calculate sample standard deviation (STDEV.S), use an additional parameter, called ddof and set it to 1. [3.4]\n",
    "np.std(x, ddof = 1)"
   ]
  },
  {
   "cell_type": "code",
   "execution_count": 3,
   "metadata": {},
   "outputs": [
    {
     "data": {
      "text/plain": [
       "3.0607876523260447"
      ]
     },
     "execution_count": 3,
     "metadata": {},
     "output_type": "execute_result"
    }
   ],
   "source": [
    "import statistics\n",
    "# Calculate the standard deviation, (STDEV.S). stdev() function only calculates standard deviation from a sample of data, rather than an entire population. [3.5]\n",
    "statistics.stdev(x)\n"
   ]
  },
  {
   "cell_type": "code",
   "execution_count": 4,
   "metadata": {},
   "outputs": [
    {
     "data": {
      "text/plain": [
       "2.9832867780352594"
      ]
     },
     "execution_count": 4,
     "metadata": {},
     "output_type": "execute_result"
    }
   ],
   "source": [
    "# Calculate standard deviation of an entire population (STDEV.P)\n",
    "statistics.pstdev(x)"
   ]
  },
  {
   "cell_type": "code",
   "execution_count": 5,
   "metadata": {},
   "outputs": [
    {
     "data": {
      "text/plain": [
       "2.9832867780352594"
      ]
     },
     "execution_count": 5,
     "metadata": {},
     "output_type": "execute_result"
    }
   ],
   "source": [
    "#  Use formula given by lecturer on assessment sheet to calculate STDEV.P \n",
    "np.sqrt(np.sum((x - np.mean(x))**2)/len(x))"
   ]
  },
  {
   "cell_type": "code",
   "execution_count": 6,
   "metadata": {},
   "outputs": [
    {
     "data": {
      "text/plain": [
       "3.0607876523260447"
      ]
     },
     "execution_count": 6,
     "metadata": {},
     "output_type": "execute_result"
    }
   ],
   "source": [
    "# Since I know that the below calculates STDEV.S, use it as a double check future results\n",
    "np.std (x, ddof = 1)"
   ]
  },
  {
   "cell_type": "code",
   "execution_count": 7,
   "metadata": {},
   "outputs": [
    {
     "data": {
      "text/plain": [
       "3.0607876523260447"
      ]
     },
     "execution_count": 7,
     "metadata": {},
     "output_type": "execute_result"
    }
   ],
   "source": [
    "# Amend forumla given by lecturer to calculate STDEV.S and check result against above.\n",
    "np.sqrt(np.sum((x - np.mean(x))**2)/(len(x)-1))\n"
   ]
  },
  {
   "cell_type": "markdown",
   "metadata": {},
   "source": [
    "***\n",
    "#### Using numpy to perform a simulation demonstrating that the STDEV.S calculation is a better estimate for the standard deviation of a population when performed on a sample."
   ]
  },
  {
   "cell_type": "code",
   "execution_count": 8,
   "metadata": {},
   "outputs": [
    {
     "data": {
      "text/plain": [
       "7.604891517963948"
      ]
     },
     "execution_count": 8,
     "metadata": {},
     "output_type": "execute_result"
    }
   ],
   "source": [
    "# Calculate Standard Deviation of entire population and call it x2\n",
    "x2=([54, 45, 59, 51, 52, 49, 41, 50, 53, 45, 36, 59, 51, 47, 55, 37, 51, 58, 57, 52, 40, 44, 42, 47, 51, 53, 30, 36, 34, 49, 51, 49, 40, 52, 55, 41, 44, 50, 61, 34])\n",
    "np.sqrt(np.sum((x2 - np.mean(x2))**2)/len(x2))"
   ]
  },
  {
   "cell_type": "markdown",
   "metadata": {},
   "source": [
    "Sample Deviation of set x2, above, taking first 15 numbers.\n",
    "Assume only had access to part of the population a sample of the first 15 numbers.\n",
    "\n",
    "The entire population (x2 above) has a standard deviation of 7.6048. \n",
    "\n",
    "Taking the first 15 records of x2 dataset and using the sample standard deviation formula, the sample standard deviation will generate a higher value for the standard deviation due to the sample size minus one being the denominator.  STDEV.S will underestimate the true population standard deviation.  \n",
    "\n",
    "Applying the formula will estimate the population standard deviation using a sample.  The population standard deviation is the true standard deviation for the values.  The sample standard deviation is used to estimate the true population standard deviation based on a sample."
   ]
  },
  {
   "cell_type": "code",
   "execution_count": 12,
   "metadata": {},
   "outputs": [
    {
     "data": {
      "text/plain": [
       "6.079473661428267"
      ]
     },
     "execution_count": 12,
     "metadata": {},
     "output_type": "execute_result"
    }
   ],
   "source": [
    "# Create sample of above set x2 (first 15 numbers) and call it x3\n",
    "x3=([54, 45, 59, 51, 52, 49, 41, 50, 53, 45, 36, 59, 51, 47, 55])\n",
    "# Population standard deviation (STDEV.P) of the sample is\n",
    "np.sqrt(np.sum((x3 - np.mean(x3))**2)/len(x3))"
   ]
  },
  {
   "cell_type": "code",
   "execution_count": 10,
   "metadata": {},
   "outputs": [
    {
     "data": {
      "text/plain": [
       "6.292853089020911"
      ]
     },
     "execution_count": 10,
     "metadata": {},
     "output_type": "execute_result"
    }
   ],
   "source": [
    "# Sample standard deviation (STDEV.S) of the same sample set above (x3)\n",
    "np.sqrt(np.sum((x3 - np.mean(x3))**2)/(len(x3)-1))"
   ]
  },
  {
   "cell_type": "markdown",
   "metadata": {},
   "source": [
    "#### The result is that the STDEV.S (6.292853089020911) is higher than the STDEV.P (6.079473661428267) of the sample, but STDEV.S is closer to the actual population standard deviation of 7.604891517963948.  \n"
   ]
  },
  {
   "cell_type": "markdown",
   "metadata": {},
   "source": [
    "[3.1] Exceltip, exceltip.com, How To Use Excel STDEV.P Function, https://www.exceltip.com/statistical-formulas/how-to-use-excel-stdev-p-function.html#:~:text=Let's%20Explore.-,The%20STDEV.,sample%20of%20the%20entire%20population., accessed November 2020 <br>\n",
    "\n",
    "[3.2] Excel Easy, excel-easy.com, Standard Deviation, https://www.excel-easy.com/examples/standard-deviation.html, accessed November 2020 <br>\n",
    "\n",
    "[3.3] Excetip, exceltip.com, How to use the STDEV.S Function in Excel, https://www.exceltip.com/statistical-formulas/how-to-use-stdev-s-function-in-excel.html, accessed November 2020 <br>\n",
    "\n",
    "[3.4] Mad Physicist, (2015), stackoverflow.com, Standard deviation in numpy, https://stackoverflow.com/questions/34050491/standard-deviation-in-numpy, accessed November 2020 <br>\n",
    "\n",
    "[3.5] retr0, (2020), geeksforgeeks.org, stdev() method in Python statistics module, https://www.geeksforgeeks.org/python-statistics-stdev/, accessed November 2020 <br>\n",
    "\n",
    "Further reading:\n",
    "\n",
    "* Dr. Todd Grande\n",
    ", 2016, youtube.com, Understanding Sample (STDEV.S) and Population (STDEV.P) Standard Deviation using Excel, https://www.youtube.com/watch?v=W7q8kfs1bNI&ab_channel=Dr.ToddGrande, accessed November 2020 <br>\n",
    "\n",
    "* (2017), mathisisfun.com, Standard Deviation Formulas, https://www.mathsisfun.com/data/standard-deviation-formulas.html, accessed November 2020 <br>\n",
    "\n",
    "* exceptip.com, How To Use Excel STDEV.P Function, https://www.exceltip.com/statistical-formulas/how-to-use-excel-stdev-p-function.html#:~:text=Let's%20Explore.-,The%20STDEV.,sample%20of%20the%20entire%20population., accessed November 2020 <br>\n"
   ]
  },
  {
   "cell_type": "code",
   "execution_count": null,
   "metadata": {},
   "outputs": [],
   "source": []
  },
  {
   "cell_type": "code",
   "execution_count": null,
   "metadata": {},
   "outputs": [],
   "source": []
  }
 ],
 "metadata": {
  "kernelspec": {
   "display_name": "Python 3",
   "language": "python",
   "name": "python3"
  },
  "language_info": {
   "codemirror_mode": {
    "name": "ipython",
    "version": 3
   },
   "file_extension": ".py",
   "mimetype": "text/x-python",
   "name": "python",
   "nbconvert_exporter": "python",
   "pygments_lexer": "ipython3",
   "version": "3.8.5"
  }
 },
 "nbformat": 4,
 "nbformat_minor": 4
}
